{
 "cells": [
  {
   "cell_type": "markdown",
   "id": "7d32f00e-a773-421b-bc78-b51464f3168c",
   "metadata": {},
   "source": [
    "# Notebook #3 for Filtering of low-quality generations with STT\n",
    "\n",
    "This notebook is designed to filter out low-quality generated audio recordings that have been trimmed using the VAD model (see notebook #2)."
   ]
  },
  {
   "cell_type": "code",
   "execution_count": null,
   "id": "0ff55ea3-5fcd-4271-997a-c0b545935db1",
   "metadata": {},
   "outputs": [],
   "source": [
    "import pickle\n",
    "import shutil\n",
    "import datetime\n",
    "from tqdm import tqdm\n",
    "from pathlib import Path\n",
    "from collections import defaultdict, Counter"
   ]
  },
  {
   "cell_type": "code",
   "execution_count": null,
   "id": "1d794c5a-2b5a-432e-a690-549275f376c9",
   "metadata": {},
   "outputs": [],
   "source": [
    "def save_obj(obj, path='object.pkl'):\n",
    "    with open(path, 'wb') as f:\n",
    "        pickle.dump(obj, f, pickle.HIGHEST_PROTOCOL)\n",
    "\n",
    "def load_obj(path='object.pkl'):\n",
    "\t    with open(path, 'rb') as f:\n",
    "\t        return pickle.load(f)\n",
    "\n",
    "def transcription_normalizer(string: str):\n",
    "    for symbol in ['.','!','?',',']:\n",
    "        string = string.replace(symbol, '')\n",
    "    string = string.replace('ё', 'е')\n",
    "    for i, j in zip([str(k) for k in range(10)], \n",
    "                    ['ноль', 'один', 'два', 'три', 'четыре', 'пять', \n",
    "                     'шесть', 'семь', 'восемь', 'девять']):\n",
    "        string = string.replace(i, j)\n",
    "    return string.strip().lower()\n",
    "\n",
    "def batch_gen(df: list, bs: int = 10):\n",
    "    for i in range(0, len(df), bs):\n",
    "        yield df[i:i+bs]"
   ]
  },
  {
   "cell_type": "markdown",
   "id": "4b00c292-93b4-42ac-9001-948b24785ee1",
   "metadata": {},
   "source": [
    "## 1. Configs"
   ]
  },
  {
   "cell_type": "code",
   "execution_count": null,
   "id": "e094ec14-236e-4e29-b544-55992f198a1e",
   "metadata": {},
   "outputs": [],
   "source": [
    "path_to_data = Path('./data/Synt-RuSC/interim/')\n",
    "output_data_path = Path('./data/Synt-RuSC/processed/')\n",
    "results_path = Path('./results/')\n",
    "\n",
    "# check path_to_data path\n",
    "assert path_to_data.is_dir(), 'path is not exist, check \"path_to_data\"'\n",
    "\n",
    "# create output_data_path and results_path\n",
    "output_data_path.mkdir(parents=True, exist_ok=True)\n",
    "results_path.mkdir(parents=True, exist_ok=True)\n",
    "\n",
    "en_ru_label_enc = {'yes': 'да', 'no': 'нет', 'up': 'вверх', 'down': 'вниз', \n",
    "                   'left': 'налево', 'right': 'направо', 'on': 'включи', \n",
    "                   'off': 'выключи', 'stop': 'стоп', 'go': 'иди', \n",
    "                   'forward': 'вперед', 'backward': 'назад', \n",
    "                   'follow': 'следуй', 'visual': 'наблюдай', 'learn': 'изучай',\n",
    "                   \n",
    "                   'zero': 'ноль', 'one': 'один', 'two': 'два', 'three': 'три',\n",
    "                   'four': 'четыре', 'five': 'пять', 'six': 'шесть', \n",
    "                   'seven': 'семь', 'eight': 'восемь', 'nine': 'девять',\n",
    "                   \n",
    "                   'create': 'создай', 'cry': 'зарыдай', 'over': 'сверх', \n",
    "                   'discord': 'разлад', 'harm': 'вред', 'dies': 'гибнет', \n",
    "                   'nails': 'гвозди', 'rustier': 'ржавее', 'exclude': 'исключи', \n",
    "                   'motto': 'девиз', 'grief': 'беда',  'newer': 'новее', \n",
    "                   'knock': 'стучи', 'blow_off': 'сдуй'}\n",
    "\n",
    "ru_ind_label_enc = {'да': 0, 'нет': 1, 'вверх': 2, 'вниз': 3, 'налево': 4, \n",
    "                    'направо': 5, 'включи': 6, 'выключи': 7, 'стоп': 8, \n",
    "                    'иди': 9, 'вперед': 10, 'назад': 11, 'следуй': 12, \n",
    "                    'наблюдай': 13, 'изучай': 14, \n",
    "                    \n",
    "                    'ноль': 15, 'один': 16, 'два': 17, 'три': 18, 'четыре': 19, \n",
    "                    'пять': 20, 'шесть': 21, 'семь': 22, 'восемь': 23, \n",
    "                    'девять': 24, \n",
    "                    \n",
    "                    'out_of_vocabulary': 25}\n",
    "\n",
    "ru_ind_label_enc_oov = {'создай': 0, 'зарыдай': 1, 'сдуй': 2, 'сверх': 3, \n",
    "                        'разлад': 4, 'вред': 5, 'гибнет': 6, 'гвозди': 7, \n",
    "                        'ржавее': 8, 'исключи': 9, 'девиз': 10, 'беда': 11, \n",
    "                        'новее': 12, 'стучи': 13, 'out_of_vocabulary': 14}\n",
    "\n",
    "batch_size = 50\n",
    "target_sr = 16000"
   ]
  },
  {
   "cell_type": "markdown",
   "id": "8afb684f-fa9c-48ab-8b44-09069ede71d0",
   "metadata": {},
   "source": [
    "## 2. Filtering of low-quality generations with STT"
   ]
  },
  {
   "cell_type": "markdown",
   "id": "13b4fbdc-949b-4e67-a063-c89744fbea26",
   "metadata": {},
   "source": [
    "### 2.1 Whisper"
   ]
  },
  {
   "cell_type": "code",
   "execution_count": null,
   "id": "6da8495f-752e-468f-b6cb-c177d7a760dd",
   "metadata": {},
   "outputs": [],
   "source": [
    "import torch\n",
    "import librosa\n",
    "from transformers import WhisperProcessor, WhisperForConditionalGeneration\n",
    "\n",
    "\n",
    "device = \"cuda\" if torch.cuda.is_available() else \"cpu\"\n",
    "torch_dtype = torch.float16\n",
    "\n",
    "\n",
    "def get_whisper_transcriptions(audio_list: list, sr: int):\n",
    "    # get input feats\n",
    "    inputs = processor(audio_list, sampling_rate=sr, return_tensors=\"pt\")\n",
    "    inputs = inputs.to(device, torch_dtype)\n",
    "    \n",
    "    # generate token ids\n",
    "    predicted_ids = model.generate(inputs.input_features)\n",
    "    \n",
    "    # decode token ids to text\n",
    "    return processor.batch_decode(predicted_ids, skip_special_tokens=True)"
   ]
  },
  {
   "cell_type": "code",
   "execution_count": null,
   "id": "3c039168-fe87-4e8f-9d9d-da63d3b3544f",
   "metadata": {},
   "outputs": [],
   "source": [
    "# Load model\n",
    "\n",
    "processor = WhisperProcessor.from_pretrained(\"openai/whisper-large-v3\")\n",
    "processor.feature_extractor.sampling_rate = target_sr\n",
    "\n",
    "model = WhisperForConditionalGeneration.from_pretrained(\"openai/whisper-large-v3\")\n",
    "model.to(device, torch_dtype)\n",
    "model.config.forced_decoder_ids = processor.get_decoder_prompt_ids(\n",
    "    language=\"russian\", task=\"transcribe\")"
   ]
  },
  {
   "cell_type": "code",
   "execution_count": null,
   "id": "78b94100-d434-4b92-92e4-a3346a0da243",
   "metadata": {},
   "outputs": [],
   "source": [
    "res_whisper = defaultdict(dict)\n",
    "\n",
    "for subset_pathway in path_to_data.iterdir():\n",
    "    subset = subset_pathway.name.lower()\n",
    "    \n",
    "    audio_names, inp_audio_list = [], []\n",
    "    for word_pathway in subset_pathway.iterdir():\n",
    "        word = word_pathway.name.lower()\n",
    "        \n",
    "        if word not in en_ru_label_enc.keys():\n",
    "            continue\n",
    "        \n",
    "        for fp in word_pathway.iterdir():\n",
    "            name = f'{word}_{fp.stem}'\n",
    "            audio_names.append(name)\n",
    "            \n",
    "            res_whisper[subset][name] = {'true': en_ru_label_enc[word], \n",
    "                                         'pred': None}\n",
    "\n",
    "            # load audio file\n",
    "            audio, sr_sample = librosa.load(fp, sr=None)\n",
    "            if sr_sample != target_sr:\n",
    "                audio = librosa.resample(audio, orig_sr=sr_sample, \n",
    "                                         target_sr=target_sr)\n",
    "            inp_audio_list.append(audio)         \n",
    "\n",
    "    # Get STT transcribe\n",
    "    start_time = datetime.datetime.now()\n",
    "    print(f'Start transcribe {len(inp_audio_list)} audio from {subset}')\n",
    "    \n",
    "    transcriptions = []\n",
    "    for batch in tqdm(batch_gen(df=inp_audio_list, bs=batch_size),\n",
    "                      total=len(inp_audio_list)//batch_size + \n",
    "                            (1 if len(inp_audio_list)%batch_size!=0 else 0)):\n",
    "        batch_transcript = get_whisper_transcriptions(audio_list=batch, \n",
    "                                                      sr=target_sr)\n",
    "        transcriptions.extend(batch_transcript)\n",
    "    \n",
    "    end_time = datetime.datetime.now()\n",
    "    print(f'Get transcriptions with: {str(end_time-start_time)}')\n",
    "    \n",
    "    for ind, name in enumerate(audio_names):\n",
    "        res_whisper[subset][name]['pred'] = transcription_normalizer(transcriptions[ind])\n",
    "\n",
    "save_obj(obj=res_whisper, path=(results_path/'res-stt_whisper.pkl'))"
   ]
  },
  {
   "cell_type": "markdown",
   "id": "b4eebd26-78a6-4d95-bca5-b05e479b2d93",
   "metadata": {},
   "source": [
    "### 2.2 NVIDIA Conformer-CTC Large (NeMo)"
   ]
  },
  {
   "cell_type": "code",
   "execution_count": null,
   "id": "f1c79d9f-5226-4ce0-990a-d9a4ff679ed5",
   "metadata": {},
   "outputs": [],
   "source": [
    "import nemo.collections.asr as nemo_asr"
   ]
  },
  {
   "cell_type": "code",
   "execution_count": null,
   "id": "11f6e88b-7827-4fce-80b9-e8f03a823af2",
   "metadata": {},
   "outputs": [],
   "source": [
    "# Load model\n",
    "\n",
    "asr_model = nemo_asr.models.EncDecCTCModelBPE.from_pretrained(\n",
    "    model_name=\"stt_ru_conformer_ctc_large\"\n",
    ")"
   ]
  },
  {
   "cell_type": "code",
   "execution_count": null,
   "id": "08238a83-a527-43f1-ad07-0807879300a6",
   "metadata": {},
   "outputs": [],
   "source": [
    "res_nemo = defaultdict(dict)\n",
    "\n",
    "for subset_pathway in path_to_data.iterdir():\n",
    "    subset = subset_pathway.name.lower()\n",
    "    \n",
    "    audio_names, audio_pathways = [], []\n",
    "    for word_pathway in subset_pathway.iterdir():\n",
    "        word = word_pathway.name.lower()\n",
    "        \n",
    "        if word not in en_ru_label_enc.keys():\n",
    "            continue\n",
    "        \n",
    "        for fp in word_pathway.iterdir():\n",
    "            name = f'{word}_{fp.stem}'\n",
    "            audio_pathways.append(str(fp))\n",
    "            audio_names.append(name)\n",
    "            \n",
    "            res_nemo[subset][name] = {'true': en_ru_label_enc[word], \n",
    "                                      'pred': None}\n",
    "    \n",
    "    start_time = datetime.datetime.now()\n",
    "    print(f'Start transcribe {len(audio_pathways)} audio')\n",
    "    \n",
    "    transcriptions = []\n",
    "    for batch in tqdm(batch_gen(df=audio_pathways, bs=batch_size), \n",
    "                      total=len(audio_pathways)//batch_size + \n",
    "                            (1 if len(audio_pathways)%batch_size!=0 else 0)):\n",
    "        batch_transcript = asr_model.transcribe(\n",
    "            paths2audio_files=batch, batch_size=batch_size, verbose=False)\n",
    "        transcriptions.extend(batch_transcript)\n",
    "    \n",
    "    end_time = datetime.datetime.now()\n",
    "    print(f'Get transcriptions with: {str(end_time-start_time)}')\n",
    "    \n",
    "    for ind, name in enumerate(audio_names):\n",
    "        res_nemo[subset][name]['pred'] = transcription_normalizer(transcriptions[ind])\n",
    "\n",
    "save_obj(obj=res_nemo, path=(results_path/'res-stt_nemo.pkl'))"
   ]
  },
  {
   "cell_type": "markdown",
   "id": "eef68f94-e577-4414-a931-7bf8c77302ea",
   "metadata": {},
   "source": [
    "### 2.3 Vosk"
   ]
  },
  {
   "cell_type": "code",
   "execution_count": null,
   "id": "079f0c13-7934-401b-8bef-11735d71b28a",
   "metadata": {},
   "outputs": [],
   "source": [
    "import subprocess"
   ]
  },
  {
   "cell_type": "code",
   "execution_count": null,
   "id": "13f5606f-b03b-4135-b347-adc93160d36c",
   "metadata": {},
   "outputs": [],
   "source": [
    "tmp_vosk = results_path/'tmp_vosk'\n",
    "tmp_vosk.mkdir(parents=True, exist_ok=True)\n",
    "\n",
    "for subset_pathway in path_to_data.iterdir():\n",
    "    for word_pathway in subset_pathway.iterdir():\n",
    "        inp_path = word_pathway\n",
    "\n",
    "        bash_command =  'vosk-transcriber '\\\n",
    "                       f'--input {str(word_pathway)} '\\\n",
    "                       f'--output {str(tmp_vosk)} '\\\n",
    "                        '--model-name \"vosk-model-ru-0.42\" --lang \"ru\"'\n",
    "\n",
    "        process = subprocess.Popen(bash_command.split(), stdout=subprocess.PIPE)\n",
    "        output, error = process.communicate()"
   ]
  },
  {
   "cell_type": "code",
   "execution_count": null,
   "id": "2e35427f-6cdb-4bd6-8a60-af75261d2e0e",
   "metadata": {},
   "outputs": [],
   "source": [
    "res_vosk = defaultdict(dict)\n",
    "\n",
    "for subset_pathway in tmp_vosk.iterdir():\n",
    "    subset = subset_pathway.name.lower()\n",
    "    \n",
    "    for word_pathway in subset_pathway.iterdir():\n",
    "        word = word_pathway.name.lower()\n",
    "        \n",
    "        if word not in en_ru_label_enc.keys():\n",
    "            continue\n",
    "        \n",
    "        for fp in word_pathway.iterdir():\n",
    "            name = f'{word}_{fp.stem}'\n",
    "            \n",
    "            with open(fp, \"r\") as f:\n",
    "                transcription = f.read()\n",
    "            \n",
    "            res_vosk[subset][name] = {\n",
    "                'true': en_ru_label_enc[word], \n",
    "                'pred': transcription_normalizer(transcription)\n",
    "            }\n",
    "\n",
    "save_obj(obj=res_vosk, path=(results_path/'res-stt_vosk.pkl'))"
   ]
  },
  {
   "cell_type": "markdown",
   "id": "706f83f5-9e8d-4a55-8e8c-b667c705edb7",
   "metadata": {},
   "source": [
    "### 2.4 Filtering"
   ]
  },
  {
   "cell_type": "code",
   "execution_count": null,
   "id": "cc93824e-d5c2-4f17-8a72-f922f91e76b3",
   "metadata": {},
   "outputs": [],
   "source": [
    "#res_whisper = load_obj(path=results_path/'res-stt_whisper.pkl')\n",
    "#res_nvidia = load_obj(path=results_path/'res-stt_nemo.pkl')\n",
    "#res_vosk = load_obj(path=results_path/'res-stt_vosk.pkl')"
   ]
  },
  {
   "cell_type": "code",
   "execution_count": null,
   "id": "42b1c374-dece-4cb1-8b62-8729f7775a61",
   "metadata": {},
   "outputs": [],
   "source": [
    "for subset in res_whisper.keys():\n",
    "    (output_data_path / subset).mkdir(parents=True, exist_ok=True)\n",
    "    \n",
    "    for name in res_whisper[subset].keys():\n",
    "        word = name.split('_')[0]\n",
    "        fn = name.split(f'{word}_')[1]+'.wav'\n",
    "        fp = path_to_data / subset / word / fn\n",
    "\n",
    "        # check pathway to interim file\n",
    "        if not fp.is_file():\n",
    "            print(f'File not found! Check pathway to interim file: {fp}!')\n",
    "\n",
    "        # check true words for all stt results\n",
    "        assert res_whisper[subset][name]['true'] == \\\n",
    "               res_nvidia[subset][name]['true'] == \\\n",
    "               res_vosk[subset][name]['true'] , f'err: {name}'\n",
    "        \n",
    "        true = res_whisper[subset][name]['true']\n",
    "        \n",
    "        pred_counter = Counter([\n",
    "            res_vosk[subset][name]['pred'], \n",
    "            res_whisper[subset][name]['pred'], \n",
    "            res_nvidia[subset][name]['pred']\n",
    "        ])\n",
    "\n",
    "        if true in pred_counter.keys():\n",
    "            # \"hard\" group \n",
    "            if pred_counter[true] == 1:\n",
    "                # save if needed\n",
    "                '''\n",
    "                shutil.copy(fp, \n",
    "                            output_data_path / subset / word / fn)\n",
    "                '''\n",
    "                \n",
    "            # \"good\" group \n",
    "            else:\n",
    "                shutil.copy(fp, \n",
    "                            output_data_path / subset / word / fn)\n",
    "            \n",
    "        # \"bad\" group \n",
    "        else: \n",
    "            continue"
   ]
  }
 ],
 "metadata": {
  "kernelspec": {
   "display_name": "naumov_Python310 (torch_hf)",
   "language": "python",
   "name": "torch_hf_py10"
  },
  "language_info": {
   "codemirror_mode": {
    "name": "ipython",
    "version": 3
   },
   "file_extension": ".py",
   "mimetype": "text/x-python",
   "name": "python",
   "nbconvert_exporter": "python",
   "pygments_lexer": "ipython3",
   "version": "3.10.14"
  }
 },
 "nbformat": 4,
 "nbformat_minor": 5
}
